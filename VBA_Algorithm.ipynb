import pandas as pd
import numpy as np
import matplotlib.pyplot as plt
# 1. read data
data = pd.read_csv("/mnt/data/sample_file1.csv")

# 2. extraction consumption data
meter_data = data.values

# 3. algorithms parameter
T = 10  
C2 = 0.6  
num_swarms = 100  

def calculate_entropy(data):
    prob_data = data / np.sum(data)
    entropy = -np.sum(prob_data * np.log2(prob_data + 1e-9))
    return entropy

# 4. VBA Algorithm implementation
anomaly_flags = np.zeros(meter_data.shape[1])

for _ in range(num_swarms):
    # Random selection of counters for the cluster
    swarm_indices = np.random.choice(meter_data.shape[1], size=5, replace=False)
    swarm_data = meter_data[:, swarm_indices]

    # Calculate the sum of consumption and average
    total_consumption = np.sum(swarm_data[-T:], axis=0)
    average_consumption = np.mean(total_consumption)

# Calculate the mean and the entropy of each meter
    deviations = []
    for i in range(swarm_data.shape[1]):
        mean_i = np.mean(swarm_data[-T:, i])
        entropy_i = calculate_entropy(swarm_data[-T:, i])
        mean_swarm = average_consumption
        entropy_swarm = calculate_entropy(total_consumption)

 # Calculate deviation
        deviation = np.sqrt((mean_swarm - mean_i) ** 2 + (entropy_swarm - entropy_i) ** 2)
        deviations.append(deviation)

    # Abnormality detection based on threshold
    max_deviation = max(deviations)
    for i, deviation in enumerate(deviations):
        if deviation > C2 * max_deviation:
            anomaly_flags[swarm_indices[i]] += 1


#show result
anomalous_meters = np.where(anomaly_flags > num_swarms * 0.5)[0]
print("Anomaly meters detected:", anomalous_meters)

# 6. drawing graph
plt.bar(range(len(anomaly_flags)), anomaly_flags)
plt.xlabel("Meter number")
plt.ylabel("Number of Flags")
plt.title("Smart meter anomaly detection")
plt.show()


